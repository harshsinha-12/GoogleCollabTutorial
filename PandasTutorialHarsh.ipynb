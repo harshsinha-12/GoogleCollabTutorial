{
  "nbformat": 4,
  "nbformat_minor": 0,
  "metadata": {
    "colab": {
      "provenance": [],
      "cell_execution_strategy": "setup",
      "authorship_tag": "ABX9TyPqejqXEF+AK4B0FsLrCLyF",
      "include_colab_link": true
    },
    "kernelspec": {
      "name": "python3",
      "display_name": "Python 3"
    },
    "language_info": {
      "name": "python"
    }
  },
  "cells": [
    {
      "cell_type": "markdown",
      "metadata": {
        "id": "view-in-github",
        "colab_type": "text"
      },
      "source": [
        "<a href=\"https://colab.research.google.com/github/harshsinha-12/GoogleCollabTutorial/blob/main/PandasTutorialHarsh.ipynb\" target=\"_parent\"><img src=\"https://colab.research.google.com/assets/colab-badge.svg\" alt=\"Open In Colab\"/></a>"
      ]
    },
    {
      "cell_type": "code",
      "execution_count": 1,
      "metadata": {
        "id": "mAfaM2SGDtk3"
      },
      "outputs": [],
      "source": [
        "import pandas as pd"
      ]
    },
    {
      "cell_type": "markdown",
      "source": [
        "Creating a Series (1-Dimentional Data Structure)\n",
        "\n",
        "A Series can be created using any of the following\n",
        "\n",
        "\n",
        "\n",
        "1.   Scalar Value\n",
        "2.   Lists\n",
        "3.\n",
        "Dictionary\n",
        "\n",
        "\n"
      ],
      "metadata": {
        "id": "uV846mzxECU_"
      }
    },
    {
      "cell_type": "code",
      "source": [
        "series1 = pd.Series(10)\n",
        "print('series1')\n",
        "print(type(series1))"
      ],
      "metadata": {
        "colab": {
          "base_uri": "https://localhost:8080/"
        },
        "id": "py4iHMeEEF5G",
        "outputId": "f897b76d-044a-41db-dc76-f3b864e18e2c"
      },
      "execution_count": 6,
      "outputs": [
        {
          "output_type": "stream",
          "name": "stdout",
          "text": [
            "series1\n",
            "<class 'pandas.core.series.Series'>\n"
          ]
        }
      ]
    },
    {
      "cell_type": "code",
      "source": [
        "series2 = pd.Series(10, index = [0, 1, 2, 3, 4])\n",
        "print(series2)\n"
      ],
      "metadata": {
        "colab": {
          "base_uri": "https://localhost:8080/"
        },
        "id": "xrFGaeMhGOX6",
        "outputId": "5d165c65-8a45-4576-b3e9-88bcc9650460"
      },
      "execution_count": 5,
      "outputs": [
        {
          "output_type": "stream",
          "name": "stdout",
          "text": [
            "0    10\n",
            "1    10\n",
            "2    10\n",
            "3    10\n",
            "4    10\n",
            "dtype: int64\n"
          ]
        }
      ]
    },
    {
      "cell_type": "code",
      "source": [
        "series3 = pd.Series(10, index= ['one', 'two', 'three', 'four'])\n",
        "print(series3)"
      ],
      "metadata": {
        "colab": {
          "base_uri": "https://localhost:8080/"
        },
        "id": "KaB41nmjGUfj",
        "outputId": "02a8bafd-872e-4c97-de1e-5b54851a73c8"
      },
      "execution_count": 7,
      "outputs": [
        {
          "output_type": "stream",
          "name": "stdout",
          "text": [
            "one      10\n",
            "two      10\n",
            "three    10\n",
            "four     10\n",
            "dtype: int64\n"
          ]
        }
      ]
    },
    {
      "cell_type": "code",
      "source": [
        "#                 Index Name     Name\n",
        "Harsh = pd.Series(10, ['Messi', 'Sachin'])\n",
        "print(Harsh)"
      ],
      "metadata": {
        "colab": {
          "base_uri": "https://localhost:8080/"
        },
        "id": "8t52gff9HgFI",
        "outputId": "d777d1db-07ef-478e-8dc9-ce7b4a88e37e"
      },
      "execution_count": 9,
      "outputs": [
        {
          "output_type": "stream",
          "name": "stdout",
          "text": [
            "Messi     10\n",
            "Sachin    10\n",
            "dtype: int64\n"
          ]
        }
      ]
    },
    {
      "cell_type": "code",
      "source": [
        "lst = [10,20,30,40,50]\n",
        "#            Index  Values\n",
        "Series4 = pd.Series(lst)\n",
        "print(Series4)\n",
        "print((Series4).describe())\n"
      ],
      "metadata": {
        "colab": {
          "base_uri": "https://localhost:8080/"
        },
        "id": "BzgP3aXDIHrX",
        "outputId": "44c92bfe-e49a-45fa-add8-887a17170871"
      },
      "execution_count": 10,
      "outputs": [
        {
          "output_type": "stream",
          "name": "stdout",
          "text": [
            "0    10\n",
            "1    20\n",
            "2    30\n",
            "3    40\n",
            "4    50\n",
            "dtype: int64\n",
            "count     5.000000\n",
            "mean     30.000000\n",
            "std      15.811388\n",
            "min      10.000000\n",
            "25%      20.000000\n",
            "50%      30.000000\n",
            "75%      40.000000\n",
            "max      50.000000\n",
            "dtype: float64\n"
          ]
        }
      ]
    },
    {
      "cell_type": "code",
      "source": [
        "# Series from a Dictionary\n",
        "#       'Index' : 'Value'\n",
        "dic = {'Name':'Harsh','Subject':'Data-Science','Topic':'Pandas'}\n",
        "series5 = pd.Series(dic)\n",
        "print(series5)"
      ],
      "metadata": {
        "colab": {
          "base_uri": "https://localhost:8080/"
        },
        "id": "uQEPVfCeJu6z",
        "outputId": "1a632e6d-0d54-4193-9109-cf85636879d2"
      },
      "execution_count": 11,
      "outputs": [
        {
          "output_type": "stream",
          "name": "stdout",
          "text": [
            "Name              Harsh\n",
            "Subject    Data-Science\n",
            "Topic            Pandas\n",
            "dtype: object\n"
          ]
        }
      ]
    },
    {
      "cell_type": "markdown",
      "source": [
        "Creating a DataFrame (2-Dimentional Data Structure)\n",
        "\n",
        "A data frame can be created using any of the following\n",
        "\n",
        "\n",
        "\n",
        "\n",
        "\n",
        "1.   Series\n",
        "2.   Dictionary\n",
        "3. Lists\n",
        "\n"
      ],
      "metadata": {
        "id": "MNunJpV_OQcX"
      }
    },
    {
      "cell_type": "code",
      "source": [
        "#  Dataframe From list\n",
        "#       Values\n",
        "lst2 = [5,18,25,30,32]\n",
        "df1 = pd.DataFrame(lst2)\n",
        "print(df1)\n",
        "print((df1).describe())"
      ],
      "metadata": {
        "colab": {
          "base_uri": "https://localhost:8080/"
        },
        "id": "LOkAGcInOaPc",
        "outputId": "21eeb6f2-4c2c-4e27-f9af-82db91537b7e"
      },
      "execution_count": 13,
      "outputs": [
        {
          "output_type": "stream",
          "name": "stdout",
          "text": [
            "    0\n",
            "0   5\n",
            "1  18\n",
            "2  25\n",
            "3  30\n",
            "4  32\n",
            "               0\n",
            "count   5.000000\n",
            "mean   22.000000\n",
            "std    10.931606\n",
            "min     5.000000\n",
            "25%    18.000000\n",
            "50%    25.000000\n",
            "75%    30.000000\n",
            "max    32.000000\n"
          ]
        }
      ]
    },
    {
      "cell_type": "code",
      "source": [],
      "metadata": {
        "id": "YRZvArueOsNw"
      },
      "execution_count": null,
      "outputs": []
    }
  ]
}
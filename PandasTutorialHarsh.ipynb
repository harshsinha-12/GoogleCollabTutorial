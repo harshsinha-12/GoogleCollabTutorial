{
  "nbformat": 4,
  "nbformat_minor": 0,
  "metadata": {
    "colab": {
      "provenance": [],
      "cell_execution_strategy": "setup",
      "authorship_tag": "ABX9TyPc13GXjDtDpR3nZaAfhA4l",
      "include_colab_link": true
    },
    "kernelspec": {
      "name": "python3",
      "display_name": "Python 3"
    },
    "language_info": {
      "name": "python"
    }
  },
  "cells": [
    {
      "cell_type": "markdown",
      "metadata": {
        "id": "view-in-github",
        "colab_type": "text"
      },
      "source": [
        "<a href=\"https://colab.research.google.com/github/harshsinha-12/GoogleCollabTutorial/blob/main/PandasTutorialHarsh.ipynb\" target=\"_parent\"><img src=\"https://colab.research.google.com/assets/colab-badge.svg\" alt=\"Open In Colab\"/></a>"
      ]
    },
    {
      "cell_type": "code",
      "execution_count": 1,
      "metadata": {
        "id": "mAfaM2SGDtk3"
      },
      "outputs": [],
      "source": [
        "import pandas as pd"
      ]
    },
    {
      "cell_type": "markdown",
      "source": [
        "Creating a Series (1-Dimentional Data Structure)\n",
        "\n",
        "A Series can be created using any of the following\n",
        "\n",
        "\n",
        "\n",
        "1.   Scalar Value\n",
        "2.   Lists\n",
        "3.\n",
        "Dictionary\n",
        "\n",
        "\n"
      ],
      "metadata": {
        "id": "uV846mzxECU_"
      }
    },
    {
      "cell_type": "code",
      "source": [
        "series1 = pd.Series(10)\n",
        "print('series1')\n"
      ],
      "metadata": {
        "colab": {
          "base_uri": "https://localhost:8080/"
        },
        "id": "py4iHMeEEF5G",
        "outputId": "0e003b85-f00b-472a-bae3-aba47b4a2fb3"
      },
      "execution_count": 3,
      "outputs": [
        {
          "output_type": "stream",
          "name": "stdout",
          "text": [
            "series1\n"
          ]
        }
      ]
    }
  ]
}
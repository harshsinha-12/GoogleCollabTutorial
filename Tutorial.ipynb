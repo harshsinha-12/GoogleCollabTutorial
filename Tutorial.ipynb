{
  "nbformat": 4,
  "nbformat_minor": 0,
  "metadata": {
    "colab": {
      "provenance": [],
      "authorship_tag": "ABX9TyOuHbBsl8jrVw5WGz0qd2UU",
      "include_colab_link": true
    },
    "kernelspec": {
      "name": "python3",
      "display_name": "Python 3"
    },
    "language_info": {
      "name": "python"
    }
  },
  "cells": [
    {
      "cell_type": "markdown",
      "metadata": {
        "id": "view-in-github",
        "colab_type": "text"
      },
      "source": [
        "<a href=\"https://colab.research.google.com/github/harshsinha-12/GoogleCollabTutorial/blob/main/Tutorial.ipynb\" target=\"_parent\"><img src=\"https://colab.research.google.com/assets/colab-badge.svg\" alt=\"Open In Colab\"/></a>"
      ]
    },
    {
      "cell_type": "code",
      "source": [],
      "metadata": {
        "id": "_Ww4chLx5v90"
      },
      "execution_count": null,
      "outputs": []
    },
    {
      "cell_type": "markdown",
      "source": [],
      "metadata": {
        "id": "SA0wRe5S5wSG"
      }
    },
    {
      "cell_type": "markdown",
      "source": [
        "I'm indenting next\n",
        "\n",
        "\n",
        "> Indented block\n",
        "\n",
        "\n",
        "1.   List item\n",
        "\n",
        "---\n",
        "\n",
        "[link text](https://google.com)\n",
        "2.   List item\n",
        "\n",
        "\n"
      ],
      "metadata": {
        "id": "EYJOcrH_54L1"
      }
    },
    {
      "cell_type": "markdown",
      "source": [
        "# New Section\n",
        "\n",
        "**bold text**\n",
        "\n",
        "*italicized text*\n",
        "\n",
        "\n",
        "\n",
        "```\n",
        "# This is formatted as code\n",
        "for i in range(10):\n",
        "print(i)\n",
        "\n",
        "> [Indented block]\n",
        "(https://www.google.com)\n",
        "\n",
        "\n",
        "```\n",
        "\n",
        "\n",
        "> Indented block\n",
        "\n",
        "\n",
        "\n",
        "1.   List item\n",
        "2.   List item\n",
        "\n",
        "\n",
        "\n",
        "*   List item\n",
        "*   List item\n",
        "\n",
        "\n",
        "\n",
        "\n",
        "---\n",
        "\n",
        "⏰"
      ],
      "metadata": {
        "id": "kazMGI4F7PoT"
      }
    },
    {
      "cell_type": "markdown",
      "source": [
        "$ x = \\frac{1}{2} $\n",
        "\n",
        "# for mathematical expressions use dollar $ $ \\frac{a}{b}"
      ],
      "metadata": {
        "id": "I1_eB1vj7-Qz"
      }
    }
  ]
}
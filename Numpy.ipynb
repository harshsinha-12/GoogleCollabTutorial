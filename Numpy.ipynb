{
  "nbformat": 4,
  "nbformat_minor": 0,
  "metadata": {
    "colab": {
      "provenance": [],
      "cell_execution_strategy": "setup",
      "authorship_tag": "ABX9TyNxl55QFjQuDjnJCEWV0cd0",
      "include_colab_link": true
    },
    "kernelspec": {
      "name": "python3",
      "display_name": "Python 3"
    },
    "language_info": {
      "name": "python"
    }
  },
  "cells": [
    {
      "cell_type": "markdown",
      "metadata": {
        "id": "view-in-github",
        "colab_type": "text"
      },
      "source": [
        "<a href=\"https://colab.research.google.com/github/harshsinha-12/GoogleCollabTutorial/blob/main/Numpy.ipynb\" target=\"_parent\"><img src=\"https://colab.research.google.com/assets/colab-badge.svg\" alt=\"Open In Colab\"/></a>"
      ]
    },
    {
      "cell_type": "markdown",
      "source": [
        "**The Data Structure (object) defined in Numpy is an N-dimentional array called**"
      ],
      "metadata": {
        "id": "y7fntkZKdFb3"
      }
    },
    {
      "cell_type": "code",
      "source": [
        "import numpy as np"
      ],
      "metadata": {
        "id": "6QMGIHGWd3aZ"
      },
      "execution_count": 1,
      "outputs": []
    },
    {
      "cell_type": "code",
      "execution_count": null,
      "metadata": {
        "id": "i9qytMfQanA4"
      },
      "outputs": [],
      "source": [
        "array_name = numpy.array(data, dtype = None, ndimin)"
      ]
    },
    {
      "cell_type": "markdown",
      "source": [],
      "metadata": {
        "id": "fQMbaRpLdEFf"
      }
    },
    {
      "cell_type": "code",
      "source": [
        "a1 = np.array([1,2,3])"
      ],
      "metadata": {
        "id": "iZdZsz_rdfQu"
      },
      "execution_count": null,
      "outputs": []
    },
    {
      "cell_type": "markdown",
      "source": [],
      "metadata": {
        "id": "xfaTF2l1eCG1"
      }
    },
    {
      "cell_type": "code",
      "source": [
        "# dimension: 2\n",
        "a3 = np.array([1,2,3], dtype = 'int32')\n",
        "print(a4, '\\n dtype:', a4.dtype)"
      ],
      "metadata": {
        "id": "DOVtKUzAeCwg"
      },
      "execution_count": null,
      "outputs": []
    },
    {
      "cell_type": "markdown",
      "source": [
        "Reshape"
      ],
      "metadata": {
        "id": "tr3WXke8eUpN"
      }
    },
    {
      "cell_type": "code",
      "source": [
        "a5 = np.array([[1,2,3],[4,5,6]])\n",
        "print(a5, '\\n shape:', a5.shape)\n",
        "a5.shape = (3,2)\n",
        "print(a5, '\\n shape:', a5.shape)"
      ],
      "metadata": {
        "id": "prONxXgqeWNF"
      },
      "execution_count": null,
      "outputs": []
    },
    {
      "cell_type": "markdown",
      "source": [],
      "metadata": {
        "id": "NjMzQoH_eBUI"
      }
    },
    {
      "cell_type": "code",
      "source": [
        "a6 = np.array([[1,2,3],[4,5,6]])\n",
        "print(a6, '\\n shape:', a6.shape)\n",
        "a7 = a6.reshape(3,2)\n",
        "print(a7, '\\n shape:', a7.shape)"
      ],
      "metadata": {
        "id": "ktaoaMujexRG"
      },
      "execution_count": null,
      "outputs": []
    },
    {
      "cell_type": "markdown",
      "source": [
        "**Sequence**"
      ],
      "metadata": {
        "id": "aD5p71J3fwVF"
      }
    },
    {
      "cell_type": "markdown",
      "source": [
        "Stntax:\n",
        "numpy.arange(start,stop,step,dtype =None)"
      ],
      "metadata": {
        "id": "pQ8jQWVgf0hL"
      }
    },
    {
      "cell_type": "code",
      "source": [
        "print(np.arange(10))"
      ],
      "metadata": {
        "colab": {
          "base_uri": "https://localhost:8080/"
        },
        "id": "y-Q14rmkfzsu",
        "outputId": "2d0ff3dd-bfa4-4744-a693-1db20ce2ce9a"
      },
      "execution_count": 2,
      "outputs": [
        {
          "output_type": "stream",
          "name": "stdout",
          "text": [
            "[0 1 2 3 4 5 6 7 8 9]\n"
          ]
        }
      ]
    },
    {
      "cell_type": "code",
      "source": [
        "print(np.arange(1,10,0.5))\n"
      ],
      "metadata": {
        "colab": {
          "base_uri": "https://localhost:8080/"
        },
        "id": "f7Bcb5_jhrJE",
        "outputId": "d0c6cc36-de8b-47a8-9a09-2331afb63c7f"
      },
      "execution_count": 3,
      "outputs": [
        {
          "output_type": "stream",
          "name": "stdout",
          "text": [
            "[1.  1.5 2.  2.5 3.  3.5 4.  4.5 5.  5.5 6.  6.5 7.  7.5 8.  8.5 9.  9.5]\n"
          ]
        }
      ]
    },
    {
      "cell_type": "markdown",
      "source": [
        "Array of specified size, filled with zeros"
      ],
      "metadata": {
        "id": "6tjpA_f_hzQF"
      }
    },
    {
      "cell_type": "code",
      "source": [
        "print(np.zeros((3,2), dtype = np.int8))"
      ],
      "metadata": {
        "colab": {
          "base_uri": "https://localhost:8080/"
        },
        "id": "AuZjBWi_hxg4",
        "outputId": "0ab09578-8f10-44b4-8bee-bc23e3bdbe84"
      },
      "execution_count": 4,
      "outputs": [
        {
          "output_type": "stream",
          "name": "stdout",
          "text": [
            "[[0 0]\n",
            " [0 0]\n",
            " [0 0]]\n"
          ]
        }
      ]
    },
    {
      "cell_type": "markdown",
      "source": [
        "Array of specified size, filled with ones"
      ],
      "metadata": {
        "id": "OpetFbNkiAvo"
      }
    },
    {
      "cell_type": "code",
      "source": [
        "print(np.ones((2,3), dtype = np.int8))"
      ],
      "metadata": {
        "colab": {
          "base_uri": "https://localhost:8080/"
        },
        "id": "F3E5D0SiiLnu",
        "outputId": "f775b07b-8363-4961-9c88-de6e3c07d7e0"
      },
      "execution_count": 7,
      "outputs": [
        {
          "output_type": "stream",
          "name": "stdout",
          "text": [
            "[[1 1 1]\n",
            " [1 1 1]]\n"
          ]
        }
      ]
    },
    {
      "cell_type": "markdown",
      "source": [
        "Array filled with the element in the diagonal with 1s"
      ],
      "metadata": {
        "id": "E1xg0Kglirt6"
      }
    },
    {
      "cell_type": "code",
      "source": [
        "print(np.eye(3, dtype = np.int8))"
      ],
      "metadata": {
        "colab": {
          "base_uri": "https://localhost:8080/"
        },
        "id": "DZn4aDN7iqFv",
        "outputId": "1f6fd635-6ac6-4df9-da4c-dfdbe7b7398b"
      },
      "execution_count": 8,
      "outputs": [
        {
          "output_type": "stream",
          "name": "stdout",
          "text": [
            "[[1 0 0]\n",
            " [0 1 0]\n",
            " [0 0 1]]\n"
          ]
        }
      ]
    },
    {
      "cell_type": "markdown",
      "source": [
        "Convert list to ndarry"
      ],
      "metadata": {
        "id": "nXvvBZVYjCIe"
      }
    },
    {
      "cell_type": "code",
      "source": [
        "lst = [1,2,3]\n",
        "x1 = np.asarray(lst)\n",
        "print(x1)"
      ],
      "metadata": {
        "colab": {
          "base_uri": "https://localhost:8080/"
        },
        "id": "hZVqUNkejAc8",
        "outputId": "9fe4a424-70d4-4fe0-a40e-e20a39aa79ba"
      },
      "execution_count": 10,
      "outputs": [
        {
          "output_type": "stream",
          "name": "stdout",
          "text": [
            "[1 2 3]\n"
          ]
        }
      ]
    },
    {
      "cell_type": "markdown",
      "source": [
        "Ndarray from tupple"
      ],
      "metadata": {
        "id": "EQ7LctNcjmvR"
      }
    },
    {
      "cell_type": "code",
      "source": [
        "tpl_1 = (1,2,3)\n",
        "x2 = np.asarray(tpl_1)\n",
        "print(x2)"
      ],
      "metadata": {
        "colab": {
          "base_uri": "https://localhost:8080/"
        },
        "id": "ImVEi7u6jmcy",
        "outputId": "2fbdd1f4-6234-4126-dc28-e20e236eb490"
      },
      "execution_count": 11,
      "outputs": [
        {
          "output_type": "stream",
          "name": "stdout",
          "text": [
            "[1 2 3]\n"
          ]
        }
      ]
    },
    {
      "cell_type": "markdown",
      "source": [],
      "metadata": {
        "id": "AYNL_GkoiIrc"
      }
    },
    {
      "cell_type": "markdown",
      "source": [
        "NDARRAY from list of Tupple"
      ],
      "metadata": {
        "id": "u50slRLJj9PJ"
      }
    },
    {
      "cell_type": "code",
      "source": [],
      "metadata": {
        "id": "jCufOdEJj6Ld"
      },
      "execution_count": null,
      "outputs": []
    },
    {
      "cell_type": "markdown",
      "source": [
        "Mathematical Operations on Arrays"
      ],
      "metadata": {
        "id": "8wzgDM8_kBHD"
      }
    },
    {
      "cell_type": "code",
      "source": [
        "x4 = np.array([10,20,30,40,50])\n",
        "print(\"\")"
      ],
      "metadata": {
        "id": "6biAgEurkEKn"
      },
      "execution_count": null,
      "outputs": []
    },
    {
      "cell_type": "markdown",
      "source": [
        "Slicing in 1D Array"
      ],
      "metadata": {
        "id": "zWLW0A0Zkdmw"
      }
    },
    {
      "cell_type": "code",
      "source": [
        "x5 = np.array([6,7,8,9,23])\n",
        "print(x5[:5])\n",
        "print(x5[::2])\n",
        "print(x5[::-1])\n",
        "print(x5[-1:-5:1])\n",
        "print(x5[-1:5:1])\n",
        "print(x5[-1:-5:-1])\n",
        "print(x5[2:-2])"
      ],
      "metadata": {
        "colab": {
          "base_uri": "https://localhost:8080/"
        },
        "id": "c2hHSWoZkgLV",
        "outputId": "bbc65db2-8066-464e-b1df-cd907f662b01"
      },
      "execution_count": 12,
      "outputs": [
        {
          "output_type": "stream",
          "name": "stdout",
          "text": [
            "[ 6  7  8  9 23]\n",
            "[ 6  8 23]\n",
            "[23  9  8  7  6]\n",
            "[]\n",
            "[23]\n",
            "[23  9  8  7]\n",
            "[8]\n"
          ]
        }
      ]
    },
    {
      "cell_type": "markdown",
      "source": [
        "Slicing 2-D Array"
      ],
      "metadata": {
        "id": "6Tqod58OlVn6"
      }
    },
    {
      "cell_type": "markdown",
      "source": [
        "Syntax: Array_name[start:stop:step,start:stop:step]"
      ],
      "metadata": {
        "id": "Y1ll_xaYltsu"
      }
    },
    {
      "cell_type": "code",
      "source": [
        "x6 = np.array([[1,2,3],[4,5,6],[7,8,9]])\n",
        "print(x6[:1,])"
      ],
      "metadata": {
        "colab": {
          "base_uri": "https://localhost:8080/"
        },
        "id": "FE5p6VxplSZI",
        "outputId": "a0447022-f7e0-49ed-d88a-124beb962891"
      },
      "execution_count": 13,
      "outputs": [
        {
          "output_type": "stream",
          "name": "stdout",
          "text": [
            "[[1 2 3]]\n"
          ]
        }
      ]
    }
  ]
}
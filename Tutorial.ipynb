{
  "nbformat": 4,
  "nbformat_minor": 0,
  "metadata": {
    "colab": {
      "provenance": [],
      "authorship_tag": "ABX9TyP0mgPn0p+9jv/RNwWI3xgs",
      "include_colab_link": true
    },
    "kernelspec": {
      "name": "python3",
      "display_name": "Python 3"
    },
    "language_info": {
      "name": "python"
    }
  },
  "cells": [
    {
      "cell_type": "markdown",
      "metadata": {
        "id": "view-in-github",
        "colab_type": "text"
      },
      "source": [
        "<a href=\"https://colab.research.google.com/github/harshsinha-12/GoogleCollabTutorial/blob/main/Tutorial.ipynb\" target=\"_parent\"><img src=\"https://colab.research.google.com/assets/colab-badge.svg\" alt=\"Open In Colab\"/></a>"
      ]
    },
    {
      "cell_type": "code",
      "source": [],
      "metadata": {
        "id": "_Ww4chLx5v90"
      },
      "execution_count": null,
      "outputs": []
    },
    {
      "cell_type": "markdown",
      "source": [],
      "metadata": {
        "id": "SA0wRe5S5wSG"
      }
    },
    {
      "cell_type": "markdown",
      "source": [
        "I'm indenting next\n",
        "\n",
        "\n",
        "> Indented block\n",
        "\n",
        "\n",
        "1.   List item\n",
        "\n",
        "---\n",
        "\n",
        "[link text](https://google.com)\n",
        "2.   List item\n",
        "\n",
        "\n"
      ],
      "metadata": {
        "id": "EYJOcrH_54L1"
      }
    },
    {
      "cell_type": "markdown",
      "source": [
        "# New Section\n",
        "\n",
        "**bold text**\n",
        "\n",
        "*italicized text*\n",
        "\n",
        "\n",
        "\n",
        "```\n",
        "# This is formatted as code\n",
        "for i in range(10):\n",
        "print(i)\n",
        "\n",
        "> [Indented block]\n",
        "(https://www.google.com)\n",
        "\n",
        "\n",
        "```\n",
        "\n",
        "\n",
        "> Indented block\n",
        "\n",
        "\n",
        "\n",
        "1.   List item\n",
        "2.   List item\n",
        "\n",
        "\n",
        "\n",
        "*   List item\n",
        "*   List item\n",
        "\n",
        "\n",
        "\n",
        "\n",
        "---\n",
        "\n",
        "⏰"
      ],
      "metadata": {
        "id": "kazMGI4F7PoT"
      }
    },
    {
      "cell_type": "markdown",
      "source": [
        "$ x = \\frac{1}{2} $\n",
        "\n",
        "# for mathematical expressions use dollar $ $ \\frac{a}{b}\n",
        "\n",
        "latex mathematical symbols\n",
        "\n",
        "± \t\\pm       |∓ \\mp\t  |×\t\\times   | ÷\t\\div\n",
        "∗\t\\ast      |⋆ \\star\t  | ∘\t\\circ\t  | ⋅\t\\cdot\n",
        "∨\t\\vee      |∧ \\wedge   |⊕\t\\oplus\t |⊗\t\\otimes\n",
        "≤\t\\leq      |≥ \\geq\t  |≡\t\\equiv    |\t⊨\t\\models\n",
        "≪\t\\ll      |≫\t\\gg\t     |∥\t\\parallel    |\t∣\t\\mid\n",
        "∼\t\\sim     |≃\t\\simeq\t |≈\t\\approx\t     | ≠\t\\neq\n",
        "⩽  \\leqslant |⩾\t\\geqslant|∤\t\\nmid\t     | ≮\t\\nless\n",
        "≯\t\\ngtr\t |⪇\t\\lneq\t |⪈\t\\gneq        |\t⊊\t\\subsetneq\n",
        "⊢\t\\vdash\t |∈\t\\in\t     |∉\t\\notin       |\t∞\t\\infty\n",
        "∀\t\\forall  |∃\t\\exists\t |ı\t\\imath\t      | ȷ\t\\jmath\n",
        "∂\t\\partial |∇\t\\nabla\t |ℵ\t\\aleph\t      | ¬\t\\neg\n",
        "∅\t\\emptyset|∠\t\\angle\t |∖\t\\backslash    |\t√\t\\surd\n",
        "⊣\t\\dashv\t |⊥\t\\perp\t |≍\t\\asymp\t     |  ∙\t\\bullet\n",
        "…\t\\ldots\t |⋯\t\\cdots\t |⋮\t\\vdots\t      |  ⋱\t\\ddots\n",
        "⊂\t\\subset\t |⊆\t\\subseteq|∩\t\\cap\t     |  ∪\t\\cup\n",
        "⊃\t\\supset\t |⊇\t\\supseteq|⊉\t\\nsupseteq\t |  ⊈\t\\nsubseteq\n",
        "\n",
        "[link text](https://https://www.cmor-faculty.rice.edu/~heinken/latex/symbols.pdf)"
      ],
      "metadata": {
        "id": "I1_eB1vj7-Qz"
      }
    }
  ]
}